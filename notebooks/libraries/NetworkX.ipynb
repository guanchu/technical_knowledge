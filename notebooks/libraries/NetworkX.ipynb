{
  "nbformat": 4,
  "nbformat_minor": 0,
  "metadata": {
    "kernelspec": {
      "display_name": "Python 2",
      "language": "python",
      "name": "python2"
    },
    "language_info": {
      "codemirror_mode": {
        "name": "ipython",
        "version": 2
      },
      "file_extension": ".py",
      "mimetype": "text/x-python",
      "name": "python",
      "nbconvert_exporter": "python",
      "pygments_lexer": "ipython2",
      "version": "2.7.9"
    },
    "colab": {
      "name": "NetworkX.ipynb",
      "provenance": []
    }
  },
  "cells": [
    {
      "cell_type": "markdown",
      "metadata": {
        "id": "RheEndAwZ9kD"
      },
      "source": [
        "# NetworkX"
      ]
    },
    {
      "cell_type": "markdown",
      "metadata": {
        "id": "waD9fBEhZ9kG"
      },
      "source": [
        "NetworkX is a Python language software package for the creation, manipulation, and study of the structure, dynamics, and function of complex networks.\n",
        "\n",
        "With NetworkX you can load and store networks in standard and nonstandard data formats, generate many types of random and classic networks, analyze network structure, build network models, design new network algorithms, draw networks, and much more.\n",
        "\n",
        "Library documentation: <a>https://networkx.github.io/</a>"
      ]
    },
    {
      "cell_type": "code",
      "metadata": {
        "id": "fs9p6VGHZ9kG"
      },
      "source": [
        "import networkx as nx\n",
        "G = nx.Graph()"
      ],
      "execution_count": 1,
      "outputs": []
    },
    {
      "cell_type": "code",
      "metadata": {
        "id": "Hq-AcOZhZ9kH"
      },
      "source": [
        "# basic add nodes\n",
        "G.add_node(1)\n",
        "G.add_nodes_from([2, 3])"
      ],
      "execution_count": 2,
      "outputs": []
    },
    {
      "cell_type": "code",
      "metadata": {
        "id": "KtdPvD6sZ9kI"
      },
      "source": [
        "# add a group of nodes at once\n",
        "H = nx.path_graph(10)\n",
        "G.add_nodes_from(H)"
      ],
      "execution_count": 3,
      "outputs": []
    },
    {
      "cell_type": "code",
      "metadata": {
        "id": "LMf2JdT-Z9kI"
      },
      "source": [
        "# add another graph itself as a node\n",
        "G.add_node(H)"
      ],
      "execution_count": 4,
      "outputs": []
    },
    {
      "cell_type": "code",
      "metadata": {
        "id": "REmNc_i9Z9kI"
      },
      "source": [
        "# add edges using similar methods\n",
        "G.add_edge(1, 2)\n",
        "e = (2, 3)\n",
        "G.add_edge(*e)\n",
        "G.add_edges_from([(1, 2), (1, 3)])\n",
        "G.add_edges_from(H.edges())"
      ],
      "execution_count": 5,
      "outputs": []
    },
    {
      "cell_type": "code",
      "metadata": {
        "id": "MdJE6Ps9Z9kJ"
      },
      "source": [
        "# can also remove or clear\n",
        "G.remove_node(H)\n",
        "G.clear()"
      ],
      "execution_count": 6,
      "outputs": []
    },
    {
      "cell_type": "code",
      "metadata": {
        "id": "tkYXovfuZ9kJ"
      },
      "source": [
        "# repeats are ignored\n",
        "G.add_edges_from([(1,2),(1,3)])\n",
        "G.add_node(1)\n",
        "G.add_edge(1,2)\n",
        "G.add_node('spam')       # adds node \"spam\"\n",
        "G.add_nodes_from('spam') # adds 4 nodes: 's', 'p', 'a', 'm'"
      ],
      "execution_count": 7,
      "outputs": []
    },
    {
      "cell_type": "code",
      "metadata": {
        "id": "YISuEaf5Z9kJ",
        "outputId": "78613833-5a98-4645-984e-91dc46b2f07d",
        "colab": {
          "base_uri": "https://localhost:8080/"
        }
      },
      "source": [
        "# get the number of nodes and edges\n",
        "G.number_of_nodes(), G.number_of_edges()"
      ],
      "execution_count": 8,
      "outputs": [
        {
          "output_type": "execute_result",
          "data": {
            "text/plain": [
              "(8, 2)"
            ]
          },
          "metadata": {
            "tags": []
          },
          "execution_count": 8
        }
      ]
    },
    {
      "cell_type": "code",
      "metadata": {
        "id": "EdKa_QfPZ9kL",
        "outputId": "546f4976-ee4c-4683-e4fc-764cfe70a771",
        "colab": {
          "base_uri": "https://localhost:8080/"
        }
      },
      "source": [
        "# access graph edges\n",
        "G[1]"
      ],
      "execution_count": 9,
      "outputs": [
        {
          "output_type": "execute_result",
          "data": {
            "text/plain": [
              "AtlasView({2: {}, 3: {}})"
            ]
          },
          "metadata": {
            "tags": []
          },
          "execution_count": 9
        }
      ]
    },
    {
      "cell_type": "code",
      "metadata": {
        "id": "7ArjUljHZ9kL",
        "outputId": "03087460-4e8b-44e7-fc61-db9fd0c43b29",
        "colab": {
          "base_uri": "https://localhost:8080/"
        }
      },
      "source": [
        "G[1][2]"
      ],
      "execution_count": 10,
      "outputs": [
        {
          "output_type": "execute_result",
          "data": {
            "text/plain": [
              "{}"
            ]
          },
          "metadata": {
            "tags": []
          },
          "execution_count": 10
        }
      ]
    },
    {
      "cell_type": "code",
      "metadata": {
        "id": "I_r74wgWZ9kM"
      },
      "source": [
        "# set an attribute of an edge\n",
        "G.add_edge(1,3)\n",
        "G[1][3]['color'] = 'blue'"
      ],
      "execution_count": 11,
      "outputs": []
    },
    {
      "cell_type": "code",
      "metadata": {
        "id": "kMEFHVE2Z9kM",
        "outputId": "ec62e361-2c34-4c5a-d839-c35d8c383cb9",
        "colab": {
          "base_uri": "https://localhost:8080/"
        }
      },
      "source": [
        "FG = nx.Graph()\n",
        "FG.add_weighted_edges_from([(1, 2, 0.125), (1, 3, 0.75), (2, 4, 1.2), (3, 4, 0.375)])\n",
        "for n, nbrs in FG.adjacency():\n",
        "    for nbr, eattr in nbrs.items():\n",
        "        data = eattr['weight']\n",
        "        if data < 0.5: print('(%d, %d, %.3f)' % (n, nbr, data))"
      ],
      "execution_count": 15,
      "outputs": [
        {
          "output_type": "stream",
          "text": [
            "(1, 2, 0.125)\n",
            "(2, 1, 0.125)\n",
            "(3, 4, 0.375)\n",
            "(4, 3, 0.375)\n"
          ],
          "name": "stdout"
        }
      ]
    },
    {
      "cell_type": "code",
      "metadata": {
        "id": "8WKsu4gtZ9kN",
        "outputId": "ecbc0562-385b-4a0f-8bc4-f84028c8e855",
        "colab": {
          "base_uri": "https://localhost:8080/"
        }
      },
      "source": [
        "# graph attribte\n",
        "G = nx.Graph(day='Friday')\n",
        "G.graph"
      ],
      "execution_count": 16,
      "outputs": [
        {
          "output_type": "execute_result",
          "data": {
            "text/plain": [
              "{'day': 'Friday'}"
            ]
          },
          "metadata": {
            "tags": []
          },
          "execution_count": 16
        }
      ]
    },
    {
      "cell_type": "code",
      "metadata": {
        "id": "OHEn4QT5Z9kN",
        "outputId": "3b42995a-b67c-45a4-b49b-11d910cbc999",
        "colab": {
          "base_uri": "https://localhost:8080/"
        }
      },
      "source": [
        "# modifying an attribute\n",
        "G.graph['day'] = 'Monday'\n",
        "G.graph"
      ],
      "execution_count": 17,
      "outputs": [
        {
          "output_type": "execute_result",
          "data": {
            "text/plain": [
              "{'day': 'Monday'}"
            ]
          },
          "metadata": {
            "tags": []
          },
          "execution_count": 17
        }
      ]
    },
    {
      "cell_type": "code",
      "metadata": {
        "id": "6BXo0DbbZ9kN",
        "outputId": "52513d23-a908-4fd3-9814-eb492e62538d",
        "colab": {
          "base_uri": "https://localhost:8080/"
        }
      },
      "source": [
        "# node attributes\n",
        "G.add_node(1, time='5pm')\n",
        "G.add_nodes_from([3], time='2pm')\n",
        "G.node[1]['room'] = 714\n",
        "G.nodes(data=True)"
      ],
      "execution_count": 18,
      "outputs": [
        {
          "output_type": "execute_result",
          "data": {
            "text/plain": [
              "NodeDataView({1: {'room': 714, 'time': '5pm'}, 3: {'time': '2pm'}})"
            ]
          },
          "metadata": {
            "tags": []
          },
          "execution_count": 18
        }
      ]
    },
    {
      "cell_type": "code",
      "metadata": {
        "id": "iKZoWgl6Z9kO"
      },
      "source": [
        "# edge attributes (weight is a special numeric attribute)\n",
        "G.add_edge(1, 2, weight=4.7)\n",
        "G.add_edges_from([(3, 4), (4, 5)], color='red')\n",
        "G.add_edges_from([(1, 2 ,{'color': 'blue'}), (2, 3, {'weight' :8})])\n",
        "G[1][2]['weight'] = 4.7"
      ],
      "execution_count": 25,
      "outputs": []
    },
    {
      "cell_type": "code",
      "metadata": {
        "id": "59ByrbDVZ9kO",
        "outputId": "10b7065b-04d5-4c8c-f4e0-b4295c25352b",
        "colab": {
          "base_uri": "https://localhost:8080/"
        }
      },
      "source": [
        "# directed graph\n",
        "DG = nx.DiGraph()\n",
        "DG.add_weighted_edges_from([(1, 2 ,0.5), (3, 1, 0.75)])\n",
        "DG.out_degree(1, weight='weight')"
      ],
      "execution_count": 26,
      "outputs": [
        {
          "output_type": "execute_result",
          "data": {
            "text/plain": [
              "0.5"
            ]
          },
          "metadata": {
            "tags": []
          },
          "execution_count": 26
        }
      ]
    },
    {
      "cell_type": "code",
      "metadata": {
        "id": "2VW_0S0nZ9kO",
        "outputId": "e9ca2034-370d-42ac-f800-d1c0ac4c0b4b",
        "colab": {
          "base_uri": "https://localhost:8080/"
        }
      },
      "source": [
        "DG.degree(1, weight='weight')"
      ],
      "execution_count": 27,
      "outputs": [
        {
          "output_type": "execute_result",
          "data": {
            "text/plain": [
              "1.25"
            ]
          },
          "metadata": {
            "tags": []
          },
          "execution_count": 27
        }
      ]
    },
    {
      "cell_type": "code",
      "metadata": {
        "id": "5VM-_c5pZ9kP",
        "outputId": "8495b49f-3b3a-4ddb-c4d1-3b743657de71",
        "colab": {
          "base_uri": "https://localhost:8080/"
        }
      },
      "source": [
        "DG.successors(1)"
      ],
      "execution_count": 28,
      "outputs": [
        {
          "output_type": "execute_result",
          "data": {
            "text/plain": [
              "<dictionary-keyiterator at 0x7efea6a949b0>"
            ]
          },
          "metadata": {
            "tags": []
          },
          "execution_count": 28
        }
      ]
    },
    {
      "cell_type": "code",
      "metadata": {
        "id": "NeIhWNSJZ9kP",
        "outputId": "05906b10-aa60-452f-a32f-835d7caaf42d",
        "colab": {
          "base_uri": "https://localhost:8080/"
        }
      },
      "source": [
        "DG.predecessors(1)"
      ],
      "execution_count": 29,
      "outputs": [
        {
          "output_type": "execute_result",
          "data": {
            "text/plain": [
              "<dictionary-keyiterator at 0x7efea6a94fb0>"
            ]
          },
          "metadata": {
            "tags": []
          },
          "execution_count": 29
        }
      ]
    },
    {
      "cell_type": "code",
      "metadata": {
        "id": "EYb163QgZ9kP"
      },
      "source": [
        "# convert to undirected graph\n",
        "H = nx.Graph(G)"
      ],
      "execution_count": 30,
      "outputs": []
    },
    {
      "cell_type": "code",
      "metadata": {
        "id": "YC2fGqhwZ9kP",
        "outputId": "c138c16c-38f6-41a8-97ef-74a54c9f8055",
        "colab": {
          "base_uri": "https://localhost:8080/",
          "height": 339
        }
      },
      "source": [
        "# basic graph drawing capability\n",
        "%matplotlib inline\n",
        "import matplotlib.pyplot as plt\n",
        "nx.draw(G)"
      ],
      "execution_count": 31,
      "outputs": [
        {
          "output_type": "display_data",
          "data": {
            "image/png": "[encoded data removed]",
            "text/plain": [
              "<Figure size 432x288 with 1 Axes>"
            ]
          },
          "metadata": {
            "tags": []
          }
        }
      ]
    },
    {
      "cell_type": "code",
      "metadata": {
        "id": "TH02Ofb6eLY1"
      },
      "source": [
        ""
      ],
      "execution_count": null,
      "outputs": []
    }
  ]
}